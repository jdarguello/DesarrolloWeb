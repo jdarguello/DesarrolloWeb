{
  "nbformat": 4,
  "nbformat_minor": 0,
  "metadata": {
    "colab": {
      "name": "CondicionalesPython.ipynb",
      "provenance": [],
      "collapsed_sections": [],
      "include_colab_link": true
    },
    "kernelspec": {
      "name": "python3",
      "display_name": "Python 3"
    },
    "language_info": {
      "name": "python"
    }
  },
  "cells": [
    {
      "cell_type": "markdown",
      "metadata": {
        "id": "view-in-github",
        "colab_type": "text"
      },
      "source": [
        "<a href=\"https://colab.research.google.com/github/jdarguello/Desarrollo_software/blob/master/CondicionalesPython.ipynb\" target=\"_parent\"><img src=\"https://colab.research.google.com/assets/colab-badge.svg\" alt=\"Open In Colab\"/></a>"
      ]
    },
    {
      "cell_type": "markdown",
      "metadata": {
        "id": "f0fYzuNeQHAX"
      },
      "source": [
        "# __Fundamentos de programación en Python: condicionales__\n",
        "\n",
        "<strong>Hecho por:</strong> Juan David Argüello Plata\n",
        "\n",
        "## __1. Condiciones__\n",
        "\n",
        "Podemos comparar variables de _cualquier naturaleza_.\n",
        "\n",
        "* Numérica:\n",
        "\n",
        "```\n",
        "  x > y\n",
        "  x < y\n",
        "  x == y\n",
        "  x <= y\n",
        "  x >= y\n",
        "```\n",
        "\n",
        "* Texto:\n",
        "\n",
        "```\n",
        "  \"palabra\" == \"palavra\"\n",
        "  \"palabra\" =! \"palavra\"\n",
        "```\n",
        "\n"
      ]
    },
    {
      "cell_type": "code",
      "metadata": {
        "id": "vP6kro8bQFX4"
      },
      "source": [
        "#Creemos dos números\n",
        "x = 1\n",
        "y = -1"
      ],
      "execution_count": null,
      "outputs": []
    },
    {
      "cell_type": "code",
      "metadata": {
        "id": "heB-eQ6ZUqNY"
      },
      "source": [
        "#Comparemos...\n",
        "cond1 = x > y\n",
        "cond2 = x < y\n",
        "cond3 = x == y\n",
        "print(\"¿es\", x, \"mayor que\", y, \"?\", cond1)\n",
        "print(\"¿es\", x, \"menor que\", y, \"?\", cond2)\n",
        "print(\"¿es\", x, \"igual que\", y, \"?\", cond3)"
      ],
      "execution_count": null,
      "outputs": []
    },
    {
      "cell_type": "code",
      "metadata": {
        "id": "70TmZYEVVP4F"
      },
      "source": [
        "\"\"\"\n",
        "  Cuando nuestra variable es textual, podemos comparar lo siguiente:\n",
        "    1. ¿Es la variable igual a la esperada?\n",
        "    2. ¿Tiene la palabra igual número de letras?\n",
        "\"\"\"\n",
        "palabra = \"cualquier cosa\"\n",
        "ref1 = \"no cualquier cosa\"\n",
        "ref2 = \"algo diferente\"\n",
        "\n",
        "cond1 = palabra == ref1\n",
        "cond2 = len(palabra) == len(ref2)\n",
        "\n",
        "print(\"Es '\" + palabra + \"' igual a '\" + ref1 + \"'?\", cond1)\n",
        "print(\"A pesar de que '\" + palabra + \"' tenga un contenido distinto de '\" + ref2 + \"', ¿tiene el mismo número de caracteres?\", cond2)"
      ],
      "execution_count": null,
      "outputs": []
    },
    {
      "cell_type": "markdown",
      "metadata": {
        "id": "WtoxYV_-XhgA"
      },
      "source": [
        "También podemos usar comparación en listas y tuplas. Pero __ojo:__ la comparación será con respecto a _todo_ el contenido."
      ]
    },
    {
      "cell_type": "code",
      "metadata": {
        "id": "XUChLl_OXtz0"
      },
      "source": [
        "l1 = [1,2,3,4]\n",
        "l2 = l1\n",
        "print(l1 == l2)"
      ],
      "execution_count": null,
      "outputs": []
    },
    {
      "cell_type": "code",
      "metadata": {
        "id": "r4DyTpATXze8"
      },
      "source": [
        "l3 = ['1',2,3,4]\n",
        "print(l1 == l3)"
      ],
      "execution_count": null,
      "outputs": []
    },
    {
      "cell_type": "code",
      "metadata": {
        "id": "_CoXbdb_X3yj"
      },
      "source": [
        "lista = ['hola', 'chao']\n",
        "tupla = ('hola', 'chao')\n",
        "print(lista == tupla)"
      ],
      "execution_count": null,
      "outputs": []
    },
    {
      "cell_type": "markdown",
      "metadata": {
        "id": "q61AuyF5YkTM"
      },
      "source": [
        "## __2. Comparación entre condiciones__\n",
        "\n",
        "Las decisiones _complejas_ pueden requerir el uso comparativo entre diferentes condiciones. Por ejemplo:"
      ]
    },
    {
      "cell_type": "code",
      "metadata": {
        "id": "UC47R6O0Y4BQ"
      },
      "source": [
        "dom = [-1,1]  #Dominio numérico\n",
        "num = 2       #Número de referencia\n",
        "print(\"¿Es\", num, \"mayor que\", dom, \"?\", num > dom[0] and num > dom[1])"
      ],
      "execution_count": null,
      "outputs": []
    },
    {
      "cell_type": "code",
      "metadata": {
        "id": "Q3H_m3r9achQ"
      },
      "source": [
        "#También es posible comparar de tal forma que se cumpla una condición u otra\n",
        "print(num < dom[0] or num > dom[1])"
      ],
      "execution_count": null,
      "outputs": []
    },
    {
      "cell_type": "markdown",
      "metadata": {
        "id": "bHnBIfY0T-Fk"
      },
      "source": [
        "## __3. Condicionales__\n",
        "\n",
        "\n",
        "Recordemos la __estructura__ de las condicionales:\n",
        "\n",
        "```\n",
        "  if condicion1:\n",
        "    desarrollo1\n",
        "  elif condicion2:\n",
        "    desarrollo2\n",
        "  else:\n",
        "    desarrollo3\n",
        "```\n",
        "\n",
        "Por ejemplo:"
      ]
    },
    {
      "cell_type": "code",
      "metadata": {
        "id": "5uiiawpKYh70"
      },
      "source": [
        "x = 5\n",
        "y = 2\n",
        "if x > y:\n",
        "  print(x, \"es mayor que\", y)"
      ],
      "execution_count": null,
      "outputs": []
    },
    {
      "cell_type": "code",
      "metadata": {
        "id": "x9ebvw9Yp47O"
      },
      "source": [
        "t1 = \"algo\"\n",
        "t2 = \"algo más\"\n",
        "if t1 == t2:\n",
        "  print(\"Textos iguales\")\n",
        "elif t1 == t2[:4]:\n",
        "  print(\"Textos casi iguales\")\n",
        "else:\n",
        "  print(\"Textos diferentes\")"
      ],
      "execution_count": null,
      "outputs": []
    },
    {
      "cell_type": "code",
      "metadata": {
        "id": "pTzmvtPcqInm"
      },
      "source": [
        "if x < y or t1 == t2[:4]:\n",
        "  print(\"A pesar de que\", x, \"es mayor que\", y, \",se cumple que '\" +t1 + \"' es igual a:\",t2[:4])"
      ],
      "execution_count": null,
      "outputs": []
    },
    {
      "cell_type": "markdown",
      "metadata": {
        "id": "X255VdhsbZlQ"
      },
      "source": [
        "# __Ejercicio:__\n",
        "\n",
        "De las listas sugeridas, elabora un algoritmo que identifique los números que sean mayores o iguales que $1$.\n"
      ]
    },
    {
      "cell_type": "code",
      "metadata": {
        "id": "5fhbYGr-bfCk"
      },
      "source": [
        "l1 = [20,-2,4]\n"
      ],
      "execution_count": null,
      "outputs": []
    },
    {
      "cell_type": "code",
      "metadata": {
        "id": "e9gmwIMYciC_"
      },
      "source": [
        "l2 = ['1', '3', '-1']\n"
      ],
      "execution_count": null,
      "outputs": []
    }
  ]
}