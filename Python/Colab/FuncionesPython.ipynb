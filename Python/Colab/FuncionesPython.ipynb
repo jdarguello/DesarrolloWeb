{
  "nbformat": 4,
  "nbformat_minor": 0,
  "metadata": {
    "colab": {
      "name": "FuncionesPython.ipynb",
      "provenance": [],
      "collapsed_sections": []
    },
    "kernelspec": {
      "name": "python3",
      "display_name": "Python 3"
    },
    "language_info": {
      "name": "python"
    }
  },
  "cells": [
    {
      "cell_type": "markdown",
      "metadata": {
        "id": "rZxNctd6YYIX"
      },
      "source": [
        "# __Funciones__\n",
        "\n",
        "Una función es un algoritmo que ayuda a automatizar el proceso de desarrollo de un algoritmo, ahorrando líneas de código.\n",
        "\n",
        "_Estructura:_\n",
        "\n",
        "```\n",
        "def nombre_funcion(entradas):\n",
        "  (desarrollo)\n",
        "  return salidas\n",
        "```\n",
        "\n",
        "Las funciones son la base de la Programación Orientada a Objetos (OOP, por sus siglas en inglés). \n",
        "\n",
        "#### Particularidades:\n",
        "\n",
        "* Al igual que las condicionales y los ciclos, requiere de identaciones (espacios horizontales) que permitan identificar que un algoritmo particular pertenece a la función desarrollada.\n",
        "* Las variables declaradas __dentro__ de las funciones se catalogan como variables __locales__. Hasta el momento, hemos trabajado con variables _globales_."
      ]
    },
    {
      "cell_type": "code",
      "metadata": {
        "id": "PFTqHzh8YWwO"
      },
      "source": [
        "#Creación de una función suma para dos números\n",
        "def suma_sencilla(x, y):\n",
        "  return x+y"
      ],
      "execution_count": null,
      "outputs": []
    },
    {
      "cell_type": "code",
      "metadata": {
        "id": "2HmjbUxZZl3W"
      },
      "source": [
        "#Podemos llamar, y utilizar, a la función suma de la siguiente forma\n",
        "print(suma_sencilla(1,1))"
      ],
      "execution_count": null,
      "outputs": []
    },
    {
      "cell_type": "code",
      "metadata": {
        "id": "1GSTdrx5Zrk1"
      },
      "source": [
        "#Función suma de varios números\n",
        "def suma(nums):\n",
        "  s = 0\n",
        "  for num in nums:\n",
        "    s += num\n",
        "  return s"
      ],
      "execution_count": null,
      "outputs": []
    },
    {
      "cell_type": "code",
      "metadata": {
        "id": "XPV-rlwedH8V"
      },
      "source": [
        "print(suma([1,2,3,4]))"
      ],
      "execution_count": null,
      "outputs": []
    },
    {
      "cell_type": "code",
      "metadata": {
        "id": "aZVgz-hMf4iH"
      },
      "source": [
        "#Se pueden tener varias entradas y varias salidas\n",
        "def sum_div(x,y,z):\n",
        "  return x+y, x/z\n",
        "print(sum_div(1,2,3))"
      ],
      "execution_count": null,
      "outputs": []
    },
    {
      "cell_type": "markdown",
      "metadata": {
        "id": "alIzSYfvdyU6"
      },
      "source": [
        "### __Ejemplo:__\n",
        "\n",
        "Elabora un algoritmo compacto que permita adicionar elementos al carrito de compras, eliminar artículos y que calcule el total de compra."
      ]
    },
    {
      "cell_type": "code",
      "metadata": {
        "id": "eF9pMsJJfQ7G"
      },
      "source": [
        "productos = {\n",
        "    'Martillo': 1000,\n",
        "    'Destornillador': 5000,\n",
        "    'Arandelas': 100,\n",
        "    'Tuercas': 50,\n",
        "    'Pernos': 200\n",
        "}"
      ],
      "execution_count": null,
      "outputs": []
    },
    {
      "cell_type": "code",
      "metadata": {
        "id": "4wx0UfNGft82"
      },
      "source": [
        "#FUNCIONES\n",
        "def totalCarrito(lista_compras):\n",
        "  total = 0\n",
        "  for item in lista_compras:\n",
        "    subtotal = productos[item[0]]*int(item[1])\n",
        "    total += subtotal\n",
        "  return total\n",
        "\n",
        "def resumenCompra(lista_compras):\n",
        "  msg = \"Resumen de compra:\\nArtículo\\tCantidad\\tSubtotal\\n\"\n",
        "  for item in lista_compras:\n",
        "    msg += item[0] + \"\\t\" + str(item[1]) + \"\\t\\t\" + str(totalCarrito([item,])) + \"\\n\"\n",
        "  msg += \"TOTAL\\t\" + str(totalCarrito(lista_compras))\n",
        "  return msg\n",
        "\n",
        "def eliminarArticulo(lista_compras, articulo):\n",
        "  for item in lista_compras:\n",
        "    if articulo in item:\n",
        "      lista_compras.remove(item)\n",
        "      break\n",
        "  return lista_compras\n",
        "\n",
        "#DESARROLLO INTERACTIVO\n",
        "listaCompras = []\n",
        "while True:\n",
        "  art = input(\"\\n¿Qué artículo deseas comprar? \")\n",
        "  cant = input(\"¿Cuántas unidades desas? \")\n",
        "\n",
        "  listaCompras.append((art, cant))\n",
        "\n",
        "  print(resumenCompra(listaCompras))\n",
        "\n",
        "  if input(\"¿Deseas eliminar un artículo del carrito? (s/n) \") == \"s\":\n",
        "    listaCompras = eliminarArticulo(listaCompras, input(\"Escribe el nombre del artículo: \"))\n",
        "    print(resumenCompra(listaCompras))\n",
        "\n",
        "  if input(\"¿Deseas seguir comprando? (s/n) \") == \"n\":\n",
        "    break\n",
        "  print(\"----------------------------------------------------------------\")"
      ],
      "execution_count": null,
      "outputs": []
    },
    {
      "cell_type": "markdown",
      "metadata": {
        "id": "XlczCGrgdOsc"
      },
      "source": [
        "## __Ejercicio:__\n",
        "\n",
        "Sin usar la función `factorial` de la librería `math`, elabora un algoritmo que resuelva la siguiente ecuación matemática:\n",
        "\n",
        "$$\n",
        "\\begin{equation}\n",
        "  y = \\frac{x^2+5}{2 x!}\n",
        "\\end{equation}\n",
        "$$\n",
        "\n",
        "Recuerda que:\n",
        "\n",
        "$$\n",
        "\\begin{equation}\n",
        "  x! = x(x-1)(x-2) \\cdots 1\n",
        "\\end{equation}\n",
        "$$"
      ]
    },
    {
      "cell_type": "code",
      "metadata": {
        "id": "-ozhii_Odt5W"
      },
      "source": [
        ""
      ],
      "execution_count": null,
      "outputs": []
    }
  ]
}