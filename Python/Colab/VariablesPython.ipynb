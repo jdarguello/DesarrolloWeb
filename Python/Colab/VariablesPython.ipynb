{
  "nbformat": 4,
  "nbformat_minor": 0,
  "metadata": {
    "colab": {
      "name": "VariablesPython.ipynb",
      "provenance": [],
      "collapsed_sections": []
    },
    "kernelspec": {
      "name": "python3",
      "display_name": "Python 3"
    },
    "language_info": {
      "name": "python"
    }
  },
  "cells": [
    {
      "cell_type": "markdown",
      "metadata": {
        "id": "TE61ieIPBNeJ"
      },
      "source": [
        "# __Fundamentos de programación__\n",
        "\n",
        "<strong>Hecho por:</strong> Juan David Argüello Plata\n",
        "\n",
        "## __1. Variables__\n",
        "\n",
        "Una variable es el <u>nombre</u> con el que se identifica información de interés.\n",
        "\n",
        "```\n",
        "nom_variable = contenido\n",
        "```\n",
        "\n",
        "El contenido de una variable puede cambiar de naturaleza; por eso se dice que Python es un lenguaje dinámico.\n",
        "\n",
        "### __1.1. Naturaleza de las variables__\n",
        "\n",
        "| Naturaleza | Ejemplo  |\n",
        "|----------|---|\n",
        "| Numérico | `x = 5`  |\n",
        "| Textual  |  `text = 'Esta es una frase'` |\n",
        "| Lista    | `lista = [0,1,2,\"texto\"]`  |\n",
        "| Tupla | `tupla = (0,1,2,\"texto\")` |\n",
        "| Diccionario | `dic = {\"num\":5, \"text\": \"hola\"}`  |\n",
        "\n",
        "### __1.2. Variable numérica__\n",
        "\n",
        "La forma en como se define una variable numérica y el tipo de operaciones básicas que se pueden emplear con ellas se muestra a continuación."
      ]
    },
    {
      "cell_type": "code",
      "metadata": {
        "id": "D4sBmM88FB9A"
      },
      "source": [
        "#Declarar una variable numérica es igual que en el álgebra...\n",
        "x = 1\n",
        "print(x)"
      ],
      "execution_count": null,
      "outputs": []
    },
    {
      "cell_type": "code",
      "metadata": {
        "id": "0DCYW-ItEZrt"
      },
      "source": [
        "x = 5\n",
        "w = 10\n",
        "z = 20\n",
        "print(\"x = \", x, \", w = \", w, \", z = \", z)  #Podemos ser más específicos a la hora de imprimir información"
      ],
      "execution_count": null,
      "outputs": []
    },
    {
      "cell_type": "markdown",
      "metadata": {
        "id": "26iIKijoFUZL"
      },
      "source": [
        "También se pueden hacer operaciones matemáticas, pero _cuidado_: es importante escribir bien las ecuaciones.\n",
        "\n",
        "Si se quisiera resolver:\n",
        "\n",
        "$$\n",
        "\\begin{equation}\n",
        "  y = \\frac{x}{w \\, z}\n",
        "\\end{equation}\n",
        "$$\n",
        "\n",
        "Se debe escribir el algoritmo así:"
      ]
    },
    {
      "cell_type": "code",
      "metadata": {
        "id": "2Abve5OrFAEa"
      },
      "source": [
        "y = x/(w*z)\n",
        "print(y)"
      ],
      "execution_count": null,
      "outputs": []
    },
    {
      "cell_type": "markdown",
      "metadata": {
        "id": "picgWUX6F5AC"
      },
      "source": [
        "Porque si se escribe y ejecuta así:"
      ]
    },
    {
      "cell_type": "code",
      "metadata": {
        "id": "HsqYAes3F9cE"
      },
      "source": [
        "y = x/w*z\n",
        "print(y)"
      ],
      "execution_count": null,
      "outputs": []
    },
    {
      "cell_type": "markdown",
      "metadata": {
        "id": "XU9vHv0KF9sC"
      },
      "source": [
        "Se estaría realmente resolviendo:\n",
        "\n",
        "$$\n",
        "\\begin{equation}\n",
        "  y = \\frac{x}{w} z\n",
        "\\end{equation}\n",
        "$$\n",
        "\n",
        "<h1><strong>Ejercicio:</strong></h1>\n",
        "\n",
        "Resuelve la siguiente ecuación:\n",
        "\n",
        "$$\n",
        "\\begin{equation}\n",
        "  y = \\frac{m \\, n}{m ^{2}} \\frac{n +1}{ \\left(n^{-2} m \\right) ^{3}}\n",
        "\\end{equation}\n",
        "$$\n",
        "\n",
        "Dónde: \n",
        "\n",
        "* $n = 2$\n",
        "* $m = 10$\n"
      ]
    },
    {
      "cell_type": "code",
      "metadata": {
        "id": "j3KrBU4DKRPB"
      },
      "source": [
        ""
      ],
      "execution_count": null,
      "outputs": []
    },
    {
      "cell_type": "markdown",
      "metadata": {
        "id": "tnlFQC9GKHyF"
      },
      "source": [
        "\n",
        "### __1.2. Variable de texto__\n",
        "\n",
        "A continuación, se puede observar la naturaleza de las variables textuales."
      ]
    },
    {
      "cell_type": "code",
      "metadata": {
        "id": "a3T6Lc10GaXJ"
      },
      "source": [
        "t = \"Esta es una oración\"   #De igual manera que la variable numérica.\n",
        "print(t)"
      ],
      "execution_count": null,
      "outputs": []
    },
    {
      "cell_type": "code",
      "metadata": {
        "id": "cvQBmwNrIBTa"
      },
      "source": [
        "#Es posible adicionar texto\n",
        "t2 = \", ¿o no?\"\n",
        "frase_completa = t+t2\n",
        "print(frase_completa)"
      ],
      "execution_count": null,
      "outputs": []
    },
    {
      "cell_type": "code",
      "metadata": {
        "id": "Bipc16JNIUeL"
      },
      "source": [
        "#Podemos también acceder a las letras en un texto\n",
        "print(frase_completa[0])"
      ],
      "execution_count": null,
      "outputs": []
    },
    {
      "cell_type": "code",
      "metadata": {
        "id": "C4WygcddIew7"
      },
      "source": [
        "#Y a fragmentos de una oración\n",
        "print(frase_completa[2:])"
      ],
      "execution_count": null,
      "outputs": []
    },
    {
      "cell_type": "markdown",
      "metadata": {
        "id": "P1uuGFElEYqM"
      },
      "source": [
        "### __1.3. Listas__\n",
        "\n",
        "Variables _dinámicas_ con contenido de cualquier naturaleza."
      ]
    },
    {
      "cell_type": "code",
      "metadata": {
        "id": "cVOnMhCiBLLf"
      },
      "source": [
        "#Ejemplo de lista\n",
        "l = ['a','b','c', [0,1]]\n",
        "print(l)"
      ],
      "execution_count": null,
      "outputs": []
    },
    {
      "cell_type": "code",
      "metadata": {
        "id": "hFwbg0aYDrHs"
      },
      "source": [
        "#¿Cómo accedemos a la información?\n",
        "print(l[0])  #Recuerda: el contenido de la lista empieza desde 0, 1, 2, ..."
      ],
      "execution_count": null,
      "outputs": []
    },
    {
      "cell_type": "code",
      "metadata": {
        "id": "BwLqH80IDn1F"
      },
      "source": [
        "#Podemos redefinir el contenido de la siguiente manera:\n",
        "l[0] = 'z'\n",
        "print(l)  #De esta manera, la lista se cambia su valor"
      ],
      "execution_count": null,
      "outputs": []
    },
    {
      "cell_type": "code",
      "metadata": {
        "id": "hlKJyJ3oHJnt"
      },
      "source": [
        "print(l[3][0])  #También podemos leer la información de una lista dentro de otra lista"
      ],
      "execution_count": null,
      "outputs": []
    },
    {
      "cell_type": "markdown",
      "metadata": {
        "id": "aFLkclBtItUv"
      },
      "source": [
        "### __1.4. Tuplas__\n",
        "\n",
        "Variables _estáticas_ con contenido de cualquier naturaleza."
      ]
    },
    {
      "cell_type": "code",
      "metadata": {
        "id": "gFMBYe-TI17B"
      },
      "source": [
        "t = ('a',0,20,'2', ('Hola', 'Adiós'))  #Similar a la lista\n",
        "print(t)"
      ],
      "execution_count": null,
      "outputs": []
    },
    {
      "cell_type": "code",
      "metadata": {
        "id": "Q5BA6sGoJWB7"
      },
      "source": [
        "#También podemos acceder a su contenido... y jugar con él\n",
        "print('¿' + t[4][0] + '?, ' + t[4][1])"
      ],
      "execution_count": null,
      "outputs": []
    },
    {
      "cell_type": "code",
      "metadata": {
        "id": "uQPmsIbAJvYG"
      },
      "source": [
        "#Pero si lo intentamos cambiar...\n",
        "t[0] = 1"
      ],
      "execution_count": null,
      "outputs": []
    },
    {
      "cell_type": "markdown",
      "metadata": {
        "id": "RgFLC5wpJ43a"
      },
      "source": [
        "### __1.5. Diccionarios__\n",
        "\n",
        "Tipo de variable usada en programación web. Facilita la lectura de código al darle _\"nombres\"_ a su contenido."
      ]
    },
    {
      "cell_type": "code",
      "metadata": {
        "id": "PKpTPvXZJ2rg"
      },
      "source": [
        "#Si vamos al súper mercado\n",
        "lista_mercado = {\n",
        "    'manzana':2,\n",
        "    'peras':3,\n",
        "    'uvas': 4\n",
        "}\n",
        "print(lista_mercado)"
      ],
      "execution_count": null,
      "outputs": []
    },
    {
      "cell_type": "code",
      "metadata": {
        "id": "dQML5qRsLf3A"
      },
      "source": [
        "#Podemos ser aún más específicos...\n",
        "lista_mercado = {\n",
        "    'Frutas': {\n",
        "        'Manzanas': {'Unidades': 'Un', 'Cant': 2},\n",
        "        'Peras': {'Unidades': 'Un', 'Cant': 1},\n",
        "        'Uvas': {'Unidades': 'Lb', 'Cant': 4}\n",
        "    }\n",
        "}\n",
        "print(lista_mercado)"
      ],
      "execution_count": null,
      "outputs": []
    },
    {
      "cell_type": "code",
      "metadata": {
        "id": "JAmE6XxqLyPW"
      },
      "source": [
        "#Se accede a la información de la siguiente manera:\n",
        "print(lista_mercado['Frutas']['Manzanas'])"
      ],
      "execution_count": null,
      "outputs": []
    }
  ]
}