{
  "nbformat": 4,
  "nbformat_minor": 0,
  "metadata": {
    "colab": {
      "name": "CiclosPython.ipynb",
      "provenance": [],
      "collapsed_sections": [],
      "include_colab_link": true
    },
    "kernelspec": {
      "name": "python3",
      "display_name": "Python 3"
    },
    "language_info": {
      "name": "python"
    }
  },
  "cells": [
    {
      "cell_type": "markdown",
      "metadata": {
        "id": "view-in-github",
        "colab_type": "text"
      },
      "source": [
        "<a href=\"https://colab.research.google.com/github/jdarguello/Desarrollo_software/blob/master/CiclosPython.ipynb\" target=\"_parent\"><img src=\"https://colab.research.google.com/assets/colab-badge.svg\" alt=\"Open In Colab\"/></a>"
      ]
    },
    {
      "cell_type": "markdown",
      "metadata": {
        "id": "0yONzkJLOoOW"
      },
      "source": [
        "# __Estructuras de control iterativo__\n",
        "\n",
        "## __1. Ciclo _for___\n",
        "\n",
        "Ciclo estático que identifica un _inicio_ y un _final_ antes de ejecutarse. \n",
        "\n",
        "### 1.1. Ciclo numérico\n",
        "\n",
        "Presenta la siguiente estructura básica:\n",
        "\n",
        "```\n",
        "  for i in range(n):\n",
        "    (desarrollo)\n",
        "```\n",
        "\n",
        "La función `range()` indica la cantidad individual de veces que deseas que se repita el ciclo (para este caso, `n` veces) e `i` es un _identificador_ del ciclo. Por ejemplo:"
      ]
    },
    {
      "cell_type": "code",
      "metadata": {
        "id": "FXvf0xaLTEbU"
      },
      "source": [
        "for j in range(10):\n",
        "  print(j)"
      ],
      "execution_count": null,
      "outputs": []
    },
    {
      "cell_type": "markdown",
      "metadata": {
        "id": "4VGIMX8bT27B"
      },
      "source": [
        "También se puede especificar una estructura más compleja:\n",
        "\n",
        "```\n",
        "for i in range(ni, nf, c):\n",
        "  (desarrollo)\n",
        "```\n",
        "\n",
        "Dónde: `ni` es el número en donde inicia el ciclo, `nf` en donde termina y `c` indica el valor aditivo del ciclo (por defecto, es $1$)."
      ]
    },
    {
      "cell_type": "code",
      "metadata": {
        "id": "p_Ghs9EkSKGP"
      },
      "source": [
        "for i in range(2,10,2):\n",
        "  print(i)"
      ],
      "execution_count": null,
      "outputs": []
    },
    {
      "cell_type": "markdown",
      "metadata": {
        "id": "jyRqwzzrWSA8"
      },
      "source": [
        "### 1.2. Ciclo _for_ en variables \"multi-contenido\"\n",
        "\n",
        "#### 1.2.1 Listas\n",
        "\n",
        "Se puede emplear una estructura de control condicional para iterar sobre los elementos de una lista de la siguiente forma:\n",
        "\n",
        "```\n",
        "  for elemento in lista:\n",
        "    (desarrollo)\n",
        "```\n",
        "Por ejemplo:"
      ]
    },
    {
      "cell_type": "code",
      "metadata": {
        "id": "rak3TufMXyxG"
      },
      "source": [
        "lista = ['a', 'b', 'c']\n",
        "for e in lista:\n",
        "  print(e)"
      ],
      "execution_count": null,
      "outputs": []
    },
    {
      "cell_type": "code",
      "metadata": {
        "id": "y9nWaGScX8kg"
      },
      "source": [
        "num_sumar = [1,2,3,4]   #Números a sumar\n",
        "sumatoria = 0\n",
        "for num in num_sumar:\n",
        "  sumatoria += num\n",
        "print(\"El total de la sumatoria es:\", sumatoria)"
      ],
      "execution_count": null,
      "outputs": []
    },
    {
      "cell_type": "markdown",
      "metadata": {
        "id": "mFY8NtvlYLm0"
      },
      "source": [
        "### __Ejercicio:__\n",
        "\n",
        "Elabora una condicional que calcule el valor de $x!$. Recuerda que:\n",
        "\n",
        "$$\n",
        "\\begin{equation}\n",
        "  x! = x (x-1) (x-2) \\cdots \\left[x-(x-1) \\right]\n",
        "\\end{equation}\n",
        "$$\n",
        "\n",
        "Dónde $x$ es un número natural."
      ]
    },
    {
      "cell_type": "code",
      "metadata": {
        "id": "m11BHbgwYxoa"
      },
      "source": [
        ""
      ],
      "execution_count": null,
      "outputs": []
    },
    {
      "cell_type": "markdown",
      "metadata": {
        "id": "X4cdOsgpZY5H"
      },
      "source": [
        "#### 1.2.2 Tuplas\n",
        "\n",
        "Funciona de la misma manera que las listas."
      ]
    },
    {
      "cell_type": "code",
      "metadata": {
        "id": "3ZSMYZwjZzst"
      },
      "source": [
        "t = (1,2,3)\n",
        "suma = 0\n",
        "for i in t:\n",
        "  suma += i\n",
        "print(suma)"
      ],
      "execution_count": null,
      "outputs": []
    },
    {
      "cell_type": "markdown",
      "metadata": {
        "id": "eENsn749Z8K2"
      },
      "source": [
        "### 1.2.3 Diccionario\n",
        "---\n",
        "\n",
        "Recordemos, primero, la estructura básica de un diccionario:\n",
        "\n",
        "```\n",
        "nombre_dic = {id:contenido}\n",
        "```\n",
        "\n",
        "Dónde: `nombre_dic` es el nombre de la variable, `id` es el identificador del contenido (en listas y tuplas son números, en los diccionarios pueden ser palabras) y el `contenido` adopta el valor de interés y puede ser de cualquier naturaleza.\n",
        "\n",
        "---\n",
        "\n",
        "Existen tres formas de iterar sobre el contenido de un diccionario: sobre los _identificadores_, sobre el _contenido_ o sobre los dos directamente.\n",
        "\n",
        "Si nos interesan sólo los `id`:\n",
        "\n",
        "```\n",
        "for id in dic:\n",
        "  (desarrollo)\n",
        "```\n"
      ]
    },
    {
      "cell_type": "code",
      "metadata": {
        "id": "L1GvWVtTbJjG"
      },
      "source": [
        "dic = {\n",
        "    'id1':1,\n",
        "    'id2':2\n",
        "}\n",
        "for id in dic:\n",
        "  print(id)"
      ],
      "execution_count": null,
      "outputs": []
    },
    {
      "cell_type": "markdown",
      "metadata": {
        "id": "E6Lz2m7XXzDK"
      },
      "source": [
        "Si nos interesa sólo el `contenido`:"
      ]
    },
    {
      "cell_type": "code",
      "metadata": {
        "id": "8sv9ScaNbgwQ"
      },
      "source": [
        "for contenido in dic.values():\n",
        "  print(contenido)"
      ],
      "execution_count": null,
      "outputs": []
    },
    {
      "cell_type": "markdown",
      "metadata": {
        "id": "gPVC41bQb71u"
      },
      "source": [
        "Si nos interesa el `id` y el `contenido`."
      ]
    },
    {
      "cell_type": "code",
      "metadata": {
        "id": "-tS06qybb-9-"
      },
      "source": [
        "for id, contenido in dic.items():\n",
        "  print(id, contenido)"
      ],
      "execution_count": null,
      "outputs": []
    },
    {
      "cell_type": "markdown",
      "metadata": {
        "id": "dV8osZr0PCQ6"
      },
      "source": [
        "Usualmente, en programación, se desea emplear la toma de decisiones mediante estructuras de control condicional a una serie de datos y no hacia una variable en particular."
      ]
    },
    {
      "cell_type": "markdown",
      "metadata": {
        "id": "DO-gT-CfcEfH"
      },
      "source": [
        "## __Ejemplo:__\n",
        "\n",
        "Elabora un algoritmo que identifique los números mayores a $1$."
      ]
    },
    {
      "cell_type": "code",
      "metadata": {
        "id": "9nWeBvb7cQB8"
      },
      "source": [
        "lista = [5,4,2,-4,0,20,50]\n"
      ],
      "execution_count": null,
      "outputs": []
    },
    {
      "cell_type": "markdown",
      "metadata": {
        "id": "J9mNrTHscbLw"
      },
      "source": [
        "# __2. Ciclo _while___\n",
        "\n",
        "A diferencia del ciclo for, el ciclo _while_ no presenta un \"final\" establecido. Puede, incluso, categorizarse como un ciclo indefinido, o \"infinito\" llegado el caso.\n",
        "\n",
        "Presenta la siguiente estructura:\n",
        "\n",
        "```\n",
        "while condicion:\n",
        "  (desarrollo)\n",
        "```"
      ]
    },
    {
      "cell_type": "code",
      "metadata": {
        "id": "-9jn3hKydgTy"
      },
      "source": [
        "#El presente bloque es un ciclo while infinito. CUIDADO: puede crashear el sistema.\n",
        "#Para usarlo, borra las comillas.\n",
        "\"\"\"\n",
        "suma = 0\n",
        "while True:\n",
        "  suma += 1\n",
        "  print('Ciclo número:', suma)\n",
        "\"\"\""
      ],
      "execution_count": null,
      "outputs": []
    },
    {
      "cell_type": "code",
      "metadata": {
        "id": "13KdvKMjeQac"
      },
      "source": [
        "suma = 0\n",
        "while suma < 10:\n",
        "  suma += 1\n",
        "  print(\"El valor de suma es\", suma)"
      ],
      "execution_count": null,
      "outputs": []
    },
    {
      "cell_type": "markdown",
      "metadata": {
        "id": "p9L6ilZQh17j"
      },
      "source": [
        "## __Ejercicio:__\n",
        "\n",
        "1. Identifica las personas mayores de edad de la siguiente lista."
      ]
    },
    {
      "cell_type": "code",
      "metadata": {
        "id": "XJ4rcXZhgEc-"
      },
      "source": [
        "personas = {\n",
        "    'Julián Flores': {\"Tipo documento\": \"C.C.\", \"Número\": \"1.098.880.330\"},\n",
        "    'Óscar Giraldo': {\"Tipo documento\": \"T.I.\", \"Número\": \"098.880.330\"},\n",
        "    'Andrea Juárez': {\"Tipo documento\": \"C.C.\", \"Número\": \"1.098.870.330\"},\n",
        "    'Jorge Iván López': {\"Tipo documento\": \"C.C.\", \"Número\": \"1.098.860.331\"},\n",
        "    'Javier Flores': {\"Tipo documento\": \"T.I.\", \"Número\": \"1.098.880.330\"},\n",
        "    'Sara López': {\"Tipo documento\": \"C.C.\", \"Número\": \"1.098.980.330\"},\n",
        "}\n"
      ],
      "execution_count": null,
      "outputs": []
    },
    {
      "cell_type": "markdown",
      "metadata": {
        "id": "sH7MWYXGi1Go"
      },
      "source": [
        "2. Desarrollaste una plataforma de e-commerce. Deseas que se registre un descuento del $5\\%$ a partir de la sexta unidad por la compra de cualquier producto. El descuento aplica sobre todo el carrito. Después de la doceava unidad, aplicas un descuento del $2\\%$ adicional __sólo__ a los productos individuales mayores a una unidad. Elabora un algoritmo que calcule el total del carrito de compras."
      ]
    },
    {
      "cell_type": "code",
      "metadata": {
        "id": "FrVmcecLjfTX"
      },
      "source": [
        "carrito_compras = {\n",
        "    \"Talco\": {\"Unitario\": 10000, \"Cantidad\":2},\n",
        "    \"Cepillo dental\": {\"Unitario\": 2000, \"Cantidad\":6},\n",
        "    \"Ceda dental\": {\"Unitario\":3000, \"Cantidad\":1},\n",
        "    \"Guantes\": {\"Unidad\":500, \"Cantidad\":2},\n",
        "    \"Lomito\": {\"Unitario\":20000, \"Cantidad\":0.2}\n",
        "}\n"
      ],
      "execution_count": null,
      "outputs": []
    }
  ]
}