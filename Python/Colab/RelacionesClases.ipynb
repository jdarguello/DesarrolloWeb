{
  "nbformat": 4,
  "nbformat_minor": 0,
  "metadata": {
    "colab": {
      "name": "RelacionesClases.ipynb",
      "provenance": [],
      "collapsed_sections": []
    },
    "kernelspec": {
      "name": "python3",
      "display_name": "Python 3"
    },
    "language_info": {
      "name": "python"
    }
  },
  "cells": [
    {
      "cell_type": "markdown",
      "metadata": {
        "id": "PtfjlyYaSgIw"
      },
      "source": [
        "<div align=\"center\">\n",
        "  <h1><strong>Relaciones entre <i>Clases</i></strong></h1>\n",
        "  <strong>Hecho por:</strong> Juan David Argüello Plata\n",
        "</div>\n",
        "\n",
        "\n",
        "## __Introducción__\n",
        "\n",
        "<div align=\"justify\">\n",
        "\n",
        "Las _relaciones_ entre clases constituyen la comunicación entre diferentes algoritmos. Si una clase nos permite establecer una estructura de programación, las relaciones entre ellas facilitan el desarrollo de software.\n",
        "\n",
        "</div>"
      ]
    },
    {
      "cell_type": "markdown",
      "metadata": {
        "id": "a5zR8ZddQUXN"
      },
      "source": [
        "## __Tipos de relaciones__\n",
        "\n",
        "Existen diferentes tipos de relaciones entre clases, entre ellas se destacan:\n",
        "\n",
        "* __Asociación:__ Establece una conexión básica entre una clase y otra. Consiste en crear la instancia de una clase (objeto) dentro de otra.\n",
        "\n",
        "* __Agregación:__ tipo especial de asociación que establece una independencia entre los objetos; es decir: la existencia de los objetos es independiente de la relación.\n",
        "\n",
        "* __Composición:__ a diferencia de la relación de agregación, establece una dependencia directa entre los objetos. Uno de ellos no puede existir sin el otro.\n",
        "\n",
        "* __Multiplicidad:__ define un número de relaciones entre clases. Por ejemplo: el número de empleados en una empresa, el número de bancos en una ciudad, etc.\n",
        "\n",
        "* __Herencia:__ Categoriza las clases en subclases (_hijos_) y superclase (_padre_). Las subclases heredan los métodos y atributos de la superclase. Algunas superclases se pueden llegar a catalogar como una _\"clase abstracta\"_ debido a que, normalmente, se emplean como un formato general para las clases derivadas. Este concepto se verá en detalle en clases posteriores.\n",
        "\n",
        "* __Polimorfismo:__ permite cambiar la forma de los métodos heredados a las subclases. Se verá en detalle en clases posteriores."
      ]
    },
    {
      "cell_type": "markdown",
      "metadata": {
        "id": "HMYaJyGyeB7J"
      },
      "source": [
        "## __1. Asociación__\n",
        "\n",
        "Brinda una relación básica entre un objeto y otro. Por ejemplo: una interfaz interactiva con un sistema de facturación.\n",
        "\n",
        "<div align=\"center\">\n",
        "\n",
        "<img src=\"data:image/png;base64,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\">\n",
        "\n",
        "<i>Figura 1.</i> Diagrama UML - ejemplo.\n",
        "\n",
        "</div>"
      ]
    },
    {
      "cell_type": "code",
      "metadata": {
        "id": "CR6qOboLeBNz"
      },
      "source": [
        "class Banco:\n",
        "  nombre = \"\"\n",
        "\n",
        "  def __init__(self, nombre):\n",
        "    self.nombre = nombre\n",
        "\n",
        "class Empleado:\n",
        "  nombre = \"\"\n",
        "\n",
        "  def __init__(self, nombre):\n",
        "    self.nombre = nombre\n",
        "\n",
        "bancolombia = Banco(\"Bancolombia\")\n",
        "John = Empleado(\"John Alexander\")\n",
        "\n",
        "print(John.nombre + \" es empleado de \" + bancolombia.nombre)"
      ],
      "execution_count": null,
      "outputs": []
    },
    {
      "cell_type": "markdown",
      "metadata": {
        "id": "S-lyHKCWR9Lh"
      },
      "source": [
        "## __2. Agregación__\n",
        "\n",
        "Establece una relación asociativa entre varios objetos. Por ejemplo: la relación entre un colegio y sus estudiantes. Esta relación puede tener una gran variedad de detalles, pero para un ejemplo preliminar, se puede establecer una estructura básica como la que se muestra en la Figura 1.\n",
        "\n",
        "<div align=\"center\">\n",
        "\n",
        "<img src=\"data:image/png;base64,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\" >\n",
        "\n",
        "<i>Figura 2.</i> Relación de asociación entre un colegio y un estudiante.\n",
        "\n",
        "</div>"
      ]
    },
    {
      "cell_type": "code",
      "metadata": {
        "id": "oYX7RvjnXbW4"
      },
      "source": [
        "#CLASES\n",
        "class Colegio:\n",
        "  nombre = \"\"\n",
        "  ubicacion = \"\"\n",
        "  estudiantes = []\n",
        "\n",
        "  def __init__(self, nombre, ubicacion):\n",
        "    self.nombre = nombre\n",
        "    self.ubicacion = ubicacion\n",
        "  \n",
        "  def añadirEstudiante(self, student):\n",
        "    self.estudiantes.append(student)\n",
        "  \n",
        "  def sacarEstudiante(self, nomEstudiante):\n",
        "    for estudiante in self.estudiantes:\n",
        "      if estudiante.nombre == nomEstudiante:\n",
        "        self.estudiantes.remove(estudiante)\n",
        "\n",
        "class Estudiante:\n",
        "  nombre = \"\"\n",
        "  edad = 0\n",
        "  grado = \"\"\n",
        "  promedio = 0.0\n",
        "\n",
        "  def __init__(self, nombre, edad, grado):\n",
        "    self.nombre = nombre\n",
        "    self.edad = edad\n",
        "    self.grado = grado\n",
        "\n",
        "  def promedio(self, notas):\n",
        "    self.promedio = sum(notas)/len(notas)\n",
        "\n",
        "#EJEMPLO\n",
        "san_pedro = Colegio(\"San Pedro\", \"Cll 45 Bucaramanga\")\n",
        "jose = Estudiante(\"José Miguel\", 14, \"8\")\n",
        "juan = Estudiante(\"Juan David\", 14, \"8\")\n",
        "\n",
        "san_pedro.añadirEstudiante(jose)\n",
        "san_pedro.añadirEstudiante(juan)\n",
        "\n",
        "msg = san_pedro.nombre + \" está ubicado en \" + san_pedro.ubicacion + \" y tiene \" + str(len(san_pedro.estudiantes)) + \" estudiantes,\"\n",
        "msg += \" ellos son: \"\n",
        "\n",
        "for student in san_pedro.estudiantes:\n",
        "  msg += student.nombre + \" y \"\n",
        "\n",
        "msg = msg[:-3]\n",
        "\n",
        "print(msg)"
      ],
      "execution_count": null,
      "outputs": []
    },
    {
      "cell_type": "markdown",
      "metadata": {
        "id": "DSgIM3wYiUk4"
      },
      "source": [
        "## __3. Composición__\n",
        "\n",
        "Tipo de relación en el que se produce una dependencia existencial entre los objetos. Por ejemplo: la relación entre una empresa y los empleos que ofrece. Sin la empresa, los empleos no pueden existir."
      ]
    },
    {
      "cell_type": "code",
      "metadata": {
        "id": "S6RIIHsKiUvr"
      },
      "source": [
        "#CLASES\n",
        "class Empleo:\n",
        "  cargo = \"\"\n",
        "  salario = 0\n",
        "\n",
        "  def __init__(self, cargo, salario):\n",
        "    self.ascenso(cargo, salario)\n",
        "  \n",
        "  def ascenso (self, cargo, salario):\n",
        "    self.cargo = cargo\n",
        "    self.salario = salario\n",
        "  \n",
        "class Empresa:\n",
        "  nombre = \"\"\n",
        "  ubicacion = \"\"\n",
        "  empleos = []\n",
        "\n",
        "  def __init__(self, nombre, ubicacion):\n",
        "    self.nombre = nombre\n",
        "    self.ubicacion = ubicacion\n",
        "  \n",
        "  def añadirEmpleo(self, cargo, salario):\n",
        "    self.empleos.append(Empleo(cargo, salario))\n",
        "\n",
        "#EJEMPLO\n",
        "colpatria = Empresa(\"Colpatria\", \"Cll 80 Medellín\")\n",
        "\n",
        "#Empleos\n",
        "colpatria.añadirEmpleo(\"Cajero\", 1000000)\n",
        "colpatria.añadirEmpleo(\"Agente crediticio\", 2000000)\n",
        "\n",
        "msg = colpatria.nombre + \" tiene \" + str(len(colpatria.empleos)) + \" empleos, que son: \"\n",
        "\n",
        "for empleo in colpatria.empleos:\n",
        "  msg += empleo.cargo + \" y \"\n",
        "\n",
        "msg = msg[:-3]\n",
        "print(msg)\n",
        "\n"
      ],
      "execution_count": null,
      "outputs": []
    },
    {
      "cell_type": "markdown",
      "metadata": {
        "id": "ciN1O7i-Qnn_"
      },
      "source": [
        "## __4. Ejercicios__\n",
        "\n",
        "### 4.1. Persona - Trabajo\n",
        "\n",
        "Construye la relación entre una persona y su trabajo. Puedes usar como guía el esquema mostrado:\n",
        "\n",
        "<div align=\"center\">\n",
        "  <img src=\"data:image/png;base64,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\">\n",
        "</div>"
      ]
    },
    {
      "cell_type": "code",
      "metadata": {
        "id": "MTAJe8ldSb6I"
      },
      "source": [
        ""
      ],
      "execution_count": null,
      "outputs": []
    },
    {
      "cell_type": "markdown",
      "metadata": {
        "id": "57uiUgIwZRNe"
      },
      "source": [
        "### 4.2. _Blog personal_\n",
        "\n",
        "Construye la lógica detrás de un blog personal (similar a un foro). \n",
        "\n",
        "<div align=\"center\">\n",
        "  <img src=\"data:image/png;base64,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\">\n",
        "</div>"
      ]
    },
    {
      "cell_type": "code",
      "metadata": {
        "id": "4X5CoadWa9Tv"
      },
      "source": [
        ""
      ],
      "execution_count": null,
      "outputs": []
    },
    {
      "cell_type": "markdown",
      "metadata": {
        "id": "ndvOhjYncdVM"
      },
      "source": [
        "### 4.3. Botiquín salvavidas\n",
        "\n",
        "Estas elaborando un software de control de inventarios de un hospital. \n",
        "\n",
        "<div align=\"center\">\n",
        "  <img src=\"data:image/png;base64,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\">\n",
        "</div>"
      ]
    },
    {
      "cell_type": "code",
      "metadata": {
        "id": "cZgyfFBPgEO7"
      },
      "source": [
        ""
      ],
      "execution_count": null,
      "outputs": []
    }
  ]
}